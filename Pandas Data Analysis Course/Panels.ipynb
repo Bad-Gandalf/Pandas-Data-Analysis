{
 "cells": [
  {
   "cell_type": "code",
   "execution_count": 2,
   "metadata": {},
   "outputs": [],
   "source": [
    "# Panels have been depracated, no need. They will automatically convert to a multiIndex dataframe\n",
    "import pandas as pd\n",
    "from pandas_datareader import data"
   ]
  },
  {
   "cell_type": "code",
   "execution_count": 14,
   "metadata": {},
   "outputs": [],
   "source": [
    "# Series = 1 dim, Dataframe = 2 dims, panel = 3 dims, like a box of dataframes. \n",
    "# We have added the third dimension by requesting data for numerous companies\n",
    "\n",
    "companies = [\"MSFT\", \"GOOG\", \"AAPL\", \"FB\", \"AMZN\"]\n",
    "p = data.DataReader(companies, data_source = \"yahoo\",\n",
    "               start = \"2012-01-01\", end = \"2018-12-31\")\n"
   ]
  },
  {
   "cell_type": "code",
   "execution_count": 17,
   "metadata": {},
   "outputs": [
    {
     "name": "stdout",
     "output_type": "stream",
     "text": [
      "<class 'pandas.core.frame.DataFrame'>\n",
      "DatetimeIndex: 1760 entries, 2012-01-03 to 2018-12-31\n",
      "Data columns (total 30 columns):\n",
      "(High, AAPL)         1760 non-null float64\n",
      "(High, AMZN)         1760 non-null float64\n",
      "(High, FB)           1665 non-null float64\n",
      "(High, GOOG)         1760 non-null float64\n",
      "(High, MSFT)         1760 non-null float64\n",
      "(Low, AAPL)          1760 non-null float64\n",
      "(Low, AMZN)          1760 non-null float64\n",
      "(Low, FB)            1665 non-null float64\n",
      "(Low, GOOG)          1760 non-null float64\n",
      "(Low, MSFT)          1760 non-null float64\n",
      "(Open, AAPL)         1760 non-null float64\n",
      "(Open, AMZN)         1760 non-null float64\n",
      "(Open, FB)           1665 non-null float64\n",
      "(Open, GOOG)         1760 non-null float64\n",
      "(Open, MSFT)         1760 non-null float64\n",
      "(Close, AAPL)        1760 non-null float64\n",
      "(Close, AMZN)        1760 non-null float64\n",
      "(Close, FB)          1665 non-null float64\n",
      "(Close, GOOG)        1760 non-null float64\n",
      "(Close, MSFT)        1760 non-null float64\n",
      "(Volume, AAPL)       1760 non-null float64\n",
      "(Volume, AMZN)       1760 non-null float64\n",
      "(Volume, FB)         1665 non-null float64\n",
      "(Volume, GOOG)       1760 non-null float64\n",
      "(Volume, MSFT)       1760 non-null float64\n",
      "(Adj Close, AAPL)    1760 non-null float64\n",
      "(Adj Close, AMZN)    1760 non-null float64\n",
      "(Adj Close, FB)      1665 non-null float64\n",
      "(Adj Close, GOOG)    1760 non-null float64\n",
      "(Adj Close, MSFT)    1760 non-null float64\n",
      "dtypes: float64(30)\n",
      "memory usage: 426.2 KB\n"
     ]
    }
   ],
   "source": [
    "p.info()"
   ]
  },
  {
   "cell_type": "code",
   "execution_count": null,
   "metadata": {},
   "outputs": [],
   "source": []
  }
 ],
 "metadata": {
  "kernelspec": {
   "display_name": "Python 3",
   "language": "python",
   "name": "python3"
  },
  "language_info": {
   "codemirror_mode": {
    "name": "ipython",
    "version": 3
   },
   "file_extension": ".py",
   "mimetype": "text/x-python",
   "name": "python",
   "nbconvert_exporter": "python",
   "pygments_lexer": "ipython3",
   "version": "3.7.3"
  }
 },
 "nbformat": 4,
 "nbformat_minor": 2
}
